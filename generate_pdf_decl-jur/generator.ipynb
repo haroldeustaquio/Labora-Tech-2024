{
 "cells": [
  {
   "cell_type": "code",
   "execution_count": 44,
   "metadata": {},
   "outputs": [],
   "source": [
    "import pandas as pd\n",
    "from docx import Document\n",
    "from datetime import datetime\n",
    "from docx.shared import Pt  # Para el tamaño de fuente"
   ]
  },
  {
   "cell_type": "code",
   "execution_count": 45,
   "metadata": {},
   "outputs": [],
   "source": [
    "# Cargar el documento existente\n",
    "doc = Document('plantilla.docx')"
   ]
  },
  {
   "cell_type": "code",
   "execution_count": 46,
   "metadata": {},
   "outputs": [],
   "source": [
    "fecha_actual = datetime.now()\n",
    "\n",
    "# Formatear la fecha en el formato solicitado\n",
    "meses = {\n",
    "    'January': 'enero', 'February': 'febrero', 'March': 'marzo', 'April': 'abril',\n",
    "    'May': 'mayo', 'June': 'junio', 'July': 'julio', 'August': 'agosto',\n",
    "    'September': 'septiembre', 'October': 'octubre', 'November': 'noviembre', 'December': 'diciembre'\n",
    "}\n",
    "mes_en_espanol = meses[fecha_actual.strftime('%B')]\n",
    "fecha_formateada = fecha_actual.strftime(f'%d de {mes_en_espanol} del %Y')"
   ]
  },
  {
   "cell_type": "code",
   "execution_count": null,
   "metadata": {},
   "outputs": [],
   "source": [
    "campo1 = 'Harold Eustaquio Amaya' # Nombres del representante\n",
    "campo2 = '70374712' # DNI\n",
    "campo3 = 'LaboraTech 2024' # Nombre de la empresa\n",
    "campo4 = '12345678910' # RUC de la empresa\n",
    "campo5 = 'Honorio Delgado #121, SMP'\n",
    "campo6 = 'Agrario' # Sector\n",
    "campo7 = '71' # Cantidad de trabajadores\n",
    "campo8 = fecha_formateada\n",
    "campo9 = 'Lima, Perú' # Departamento, País"
   ]
  },
  {
   "cell_type": "code",
   "execution_count": 48,
   "metadata": {},
   "outputs": [],
   "source": [
    "def replace_text(doc, reemplazos):\n",
    "    # Reemplazar en párrafos\n",
    "    for paragraph in doc.paragraphs:\n",
    "        for old_text, new_text in reemplazos.items():\n",
    "            if old_text in paragraph.text:\n",
    "                for run in paragraph.runs:\n",
    "                    if old_text in run.text:\n",
    "                        run.text = run.text.replace(old_text, new_text)\n"
   ]
  },
  {
   "cell_type": "code",
   "execution_count": 49,
   "metadata": {},
   "outputs": [],
   "source": [
    "reemplazos = {\n",
    "    'CAMPO1': campo1,\n",
    "    'CAMPO2': campo2,\n",
    "    'CAMPO3': campo3,\n",
    "    'CAMPO4': campo4,\n",
    "    'CAMPO5': campo5,\n",
    "    'CAMPO6': campo6,\n",
    "    'CAMPO7': campo7,\n",
    "    'CAMPO8': campo8,\n",
    "    'CAMPO9': campo9\n",
    "}"
   ]
  },
  {
   "cell_type": "code",
   "execution_count": 50,
   "metadata": {},
   "outputs": [],
   "source": [
    "# Función para aplicar formato a un texto específico en el documento\n",
    "def apply_format_to_text(doc, text_to_format, bold=False, font_size=None):\n",
    "    for paragraph in doc.paragraphs:\n",
    "        for run in paragraph.runs:\n",
    "            if text_to_format in run.text:\n",
    "                # Aplicar formato de negrita si se especifica\n",
    "                if bold:\n",
    "                    run.bold = True\n",
    "                # Aplicar tamaño de fuente si se especifica\n",
    "                if font_size:\n",
    "                    run.font.size = Pt(font_size)\n"
   ]
  },
  {
   "cell_type": "code",
   "execution_count": 51,
   "metadata": {},
   "outputs": [],
   "source": [
    "replace_text(doc,reemplazos)"
   ]
  },
  {
   "cell_type": "code",
   "execution_count": 52,
   "metadata": {},
   "outputs": [],
   "source": [
    "apply_format_to_text(doc, f\"{campo1}\", bold=True)\n",
    "apply_format_to_text(doc, f\"{campo2}\", bold=True)\n",
    "apply_format_to_text(doc, f\"{campo3}\", bold=True)\n",
    "apply_format_to_text(doc, f\"{campo4}\", bold=True)\n",
    "apply_format_to_text(doc, f\"{campo5}\", bold=True)\n",
    "apply_format_to_text(doc, f\"{campo6}\", bold=True)\n",
    "apply_format_to_text(doc, f\"{campo7}\", bold=True)\n",
    "apply_format_to_text(doc, f\"{campo8}\", bold=True)\n",
    "apply_format_to_text(doc, f\"{campo9}\", bold=True)"
   ]
  },
  {
   "cell_type": "code",
   "execution_count": 53,
   "metadata": {},
   "outputs": [],
   "source": [
    "doc.save(f\"declaracion_jurada_{campo4}.docx\")"
   ]
  },
  {
   "cell_type": "code",
   "execution_count": 54,
   "metadata": {},
   "outputs": [
    {
     "data": {
      "application/vnd.jupyter.widget-view+json": {
       "model_id": "16c7bd653e6b4e9fa46be2f9807d22a2",
       "version_major": 2,
       "version_minor": 0
      },
      "text/plain": [
       "  0%|          | 0/1 [00:00<?, ?it/s]"
      ]
     },
     "metadata": {},
     "output_type": "display_data"
    }
   ],
   "source": [
    "from docx2pdf import convert\n",
    "\n",
    "# Define el nombre del archivo .docx\n",
    "nombre_docx = f\"declaracion_jurada_{campo4}.docx\"\n",
    "\n",
    "# Convierte el archivo .docx a PDF\n",
    "convert(nombre_docx)"
   ]
  }
 ],
 "metadata": {
  "kernelspec": {
   "display_name": ".venv",
   "language": "python",
   "name": "python3"
  },
  "language_info": {
   "codemirror_mode": {
    "name": "ipython",
    "version": 3
   },
   "file_extension": ".py",
   "mimetype": "text/x-python",
   "name": "python",
   "nbconvert_exporter": "python",
   "pygments_lexer": "ipython3",
   "version": "3.11.9"
  }
 },
 "nbformat": 4,
 "nbformat_minor": 2
}
